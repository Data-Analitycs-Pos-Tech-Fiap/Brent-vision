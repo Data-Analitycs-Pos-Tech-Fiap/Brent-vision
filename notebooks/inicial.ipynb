{
 "cells": [
  {
   "cell_type": "code",
   "execution_count": 1,
   "id": "a28a4c71-4d57-43dc-b0a5-9bec352810ed",
   "metadata": {},
   "outputs": [
    {
     "name": "stdout",
     "output_type": "stream",
     "text": [
      "Requirement already satisfied: requests in c:\\users\\kelvyn.candido\\appdata\\roaming\\python\\python313\\site-packages (2.32.3)\n",
      "Requirement already satisfied: beautifulsoup4 in c:\\users\\kelvyn.candido\\appdata\\roaming\\python\\python313\\site-packages (4.13.3)\n",
      "Requirement already satisfied: pandas in c:\\users\\kelvyn.candido\\appdata\\local\\programs\\python\\python313\\lib\\site-packages (2.2.3)\n",
      "Requirement already satisfied: charset-normalizer<4,>=2 in c:\\users\\kelvyn.candido\\appdata\\roaming\\python\\python313\\site-packages (from requests) (3.4.1)\n",
      "Requirement already satisfied: idna<4,>=2.5 in c:\\users\\kelvyn.candido\\appdata\\roaming\\python\\python313\\site-packages (from requests) (3.10)\n",
      "Requirement already satisfied: urllib3<3,>=1.21.1 in c:\\users\\kelvyn.candido\\appdata\\roaming\\python\\python313\\site-packages (from requests) (2.3.0)\n",
      "Requirement already satisfied: certifi>=2017.4.17 in c:\\users\\kelvyn.candido\\appdata\\roaming\\python\\python313\\site-packages (from requests) (2025.1.31)\n",
      "Requirement already satisfied: soupsieve>1.2 in c:\\users\\kelvyn.candido\\appdata\\roaming\\python\\python313\\site-packages (from beautifulsoup4) (2.6)\n",
      "Requirement already satisfied: typing-extensions>=4.0.0 in c:\\users\\kelvyn.candido\\appdata\\roaming\\python\\python313\\site-packages (from beautifulsoup4) (4.12.2)\n",
      "Requirement already satisfied: numpy>=1.26.0 in c:\\users\\kelvyn.candido\\appdata\\local\\programs\\python\\python313\\lib\\site-packages (from pandas) (2.2.4)\n",
      "Requirement already satisfied: python-dateutil>=2.8.2 in c:\\users\\kelvyn.candido\\appdata\\roaming\\python\\python313\\site-packages (from pandas) (2.9.0.post0)\n",
      "Requirement already satisfied: pytz>=2020.1 in c:\\users\\kelvyn.candido\\appdata\\local\\programs\\python\\python313\\lib\\site-packages (from pandas) (2025.2)\n",
      "Requirement already satisfied: tzdata>=2022.7 in c:\\users\\kelvyn.candido\\appdata\\local\\programs\\python\\python313\\lib\\site-packages (from pandas) (2025.2)\n",
      "Requirement already satisfied: six>=1.5 in c:\\users\\kelvyn.candido\\appdata\\roaming\\python\\python313\\site-packages (from python-dateutil>=2.8.2->pandas) (1.17.0)\n",
      "Note: you may need to restart the kernel to use updated packages.\n"
     ]
    }
   ],
   "source": [
    "%pip install requests beautifulsoup4 pandas"
   ]
  },
  {
   "cell_type": "code",
   "execution_count": 2,
   "id": "761fd9f2-2a78-47fa-91be-87683f11deeb",
   "metadata": {},
   "outputs": [],
   "source": [
    "import requests\n",
    "from bs4 import BeautifulSoup\n",
    "import pandas as pd"
   ]
  },
  {
   "cell_type": "code",
   "execution_count": 3,
   "id": "2ef9ed03-9728-4fcb-a7b2-aa40647766f3",
   "metadata": {},
   "outputs": [],
   "source": [
    "url = \"http://www.ipeadata.gov.br/ExibeSerie.aspx?module=m&serid=1650971490&oper=view\"\n",
    "response = requests.get(url)\n",
    "soup = BeautifulSoup(response.content, 'html.parser')"
   ]
  },
  {
   "cell_type": "code",
   "execution_count": 4,
   "id": "310d3edf-a094-4b5d-aeaf-881d5c7cc2fc",
   "metadata": {},
   "outputs": [],
   "source": [
    "table = soup.find('table',{'class': 'dxgvTable'})"
   ]
  },
  {
   "cell_type": "code",
   "execution_count": 5,
   "id": "b8b71eb7-300a-4ef8-ae0a-985d199ff1cb",
   "metadata": {},
   "outputs": [],
   "source": [
    "# Inicializando listas para cabeçalhos e dados\n",
    "headers = []\n",
    "data = []"
   ]
  },
  {
   "cell_type": "code",
   "execution_count": 6,
   "id": "a8568654-6b30-4ff0-a2cb-4dd65ece6930",
   "metadata": {},
   "outputs": [],
   "source": [
    "# Definindo a ordem desejada dos cabeçalhos\n",
    "desired_headers = [\"Data\", \"Preço - petróleo bruto - Brent (FOB)\"]\n",
    "\n",
    "# Extraindo cabeçalhos da primeira linha (tr) da tabela\n",
    "header_row = table.find('tr')  # Encontrando a primeira linha da tabela\n",
    "\n",
    "# Iterando apenas sobre as células que são cabeçalhos\n",
    "for th in header_row.find_all('td'):\n",
    "    header_text = th.text.strip()  # Obtendo o texto da célula\n",
    "    # Adicionando apenas os cabeçalhos desejados e não vazios\n",
    "    if header_text in desired_headers:\n",
    "        headers.append(header_text)\n",
    "\n",
    "# Exibindo os cabeçalhos extraídos na ordem correta\n",
    "ordered_headers = [header for header in desired_headers if header in headers]"
   ]
  },
  {
   "cell_type": "code",
   "execution_count": 7,
   "id": "70e0a609-5080-41ec-9d2f-b515cbb15551",
   "metadata": {},
   "outputs": [
    {
     "name": "stdout",
     "output_type": "stream",
     "text": [
      "Cabeçalhos extraídos: ['Data', 'Preço - petróleo bruto - Brent (FOB)']\n"
     ]
    }
   ],
   "source": [
    "print(\"Cabeçalhos extraídos:\", ordered_headers)"
   ]
  },
  {
   "cell_type": "code",
   "execution_count": 8,
   "id": "e1e228c0-1362-4341-8847-dae580badb80",
   "metadata": {},
   "outputs": [],
   "source": [
    "# Extraindo dados das linhas subsequentes\n",
    "# Ignorando a primeira linha que contém os cabeçalhos\n",
    "for tr in table.find_all('tr')[1:]:  # Começando a partir da segunda linha\n",
    "    row_data = []\n",
    "    # Verificando se a linha contém células de dados\n",
    "    if len(tr.find_all('td')) > 0:  # Apenas processa se houver células de dados\n",
    "        for td in tr.find_all('td', class_='dxgv'):  # Filtrando apenas as células com a classe 'dxgv'\n",
    "            row_data.append(td.text.strip())\n",
    "        if row_data:  # Adiciona apenas se row_data não estiver vazio\n",
    "            data.append(row_data)"
   ]
  },
  {
   "cell_type": "code",
   "execution_count": 9,
   "id": "5f9d155c-fa10-41ae-8147-0560f17d8a23",
   "metadata": {},
   "outputs": [],
   "source": [
    "# Teste para verificar os dados antes de transformar para DataFrame\n",
    "# print(\"Dados:\", data)"
   ]
  },
  {
   "cell_type": "code",
   "execution_count": 10,
   "id": "f5d93602-f543-43db-9726-eb29d4aeeea0",
   "metadata": {},
   "outputs": [],
   "source": [
    "# Transformando em DataFrame\n",
    "df_ipeadata = pd.DataFrame(data, columns=['Data', 'Preço - petróleo bruto - Brent (FOB)'])"
   ]
  },
  {
   "cell_type": "code",
   "execution_count": 11,
   "id": "21cf3235-4134-45f4-a035-e0849843d54f",
   "metadata": {},
   "outputs": [
    {
     "data": {
      "application/vnd.microsoft.datawrangler.viewer.v0+json": {
       "columns": [
        {
         "name": "index",
         "rawType": "int64",
         "type": "integer"
        },
        {
         "name": "Data",
         "rawType": "object",
         "type": "string"
        },
        {
         "name": "Preço - petróleo bruto - Brent (FOB)",
         "rawType": "object",
         "type": "string"
        }
       ],
       "conversionMethod": "pd.DataFrame",
       "ref": "8b110468-83fe-4f7c-9db6-f7a6ce3b3d5e",
       "rows": [
        [
         "0",
         "14/04/2025",
         "67,18"
        ],
        [
         "1",
         "11/04/2025",
         "66,83"
        ],
        [
         "2",
         "10/04/2025",
         "65,37"
        ],
        [
         "3",
         "09/04/2025",
         "67,30"
        ],
        [
         "4",
         "08/04/2025",
         "64,86"
        ]
       ],
       "shape": {
        "columns": 2,
        "rows": 5
       }
      },
      "text/html": [
       "<div>\n",
       "<style scoped>\n",
       "    .dataframe tbody tr th:only-of-type {\n",
       "        vertical-align: middle;\n",
       "    }\n",
       "\n",
       "    .dataframe tbody tr th {\n",
       "        vertical-align: top;\n",
       "    }\n",
       "\n",
       "    .dataframe thead th {\n",
       "        text-align: right;\n",
       "    }\n",
       "</style>\n",
       "<table border=\"1\" class=\"dataframe\">\n",
       "  <thead>\n",
       "    <tr style=\"text-align: right;\">\n",
       "      <th></th>\n",
       "      <th>Data</th>\n",
       "      <th>Preço - petróleo bruto - Brent (FOB)</th>\n",
       "    </tr>\n",
       "  </thead>\n",
       "  <tbody>\n",
       "    <tr>\n",
       "      <th>0</th>\n",
       "      <td>14/04/2025</td>\n",
       "      <td>67,18</td>\n",
       "    </tr>\n",
       "    <tr>\n",
       "      <th>1</th>\n",
       "      <td>11/04/2025</td>\n",
       "      <td>66,83</td>\n",
       "    </tr>\n",
       "    <tr>\n",
       "      <th>2</th>\n",
       "      <td>10/04/2025</td>\n",
       "      <td>65,37</td>\n",
       "    </tr>\n",
       "    <tr>\n",
       "      <th>3</th>\n",
       "      <td>09/04/2025</td>\n",
       "      <td>67,30</td>\n",
       "    </tr>\n",
       "    <tr>\n",
       "      <th>4</th>\n",
       "      <td>08/04/2025</td>\n",
       "      <td>64,86</td>\n",
       "    </tr>\n",
       "  </tbody>\n",
       "</table>\n",
       "</div>"
      ],
      "text/plain": [
       "         Data Preço - petróleo bruto - Brent (FOB)\n",
       "0  14/04/2025                                67,18\n",
       "1  11/04/2025                                66,83\n",
       "2  10/04/2025                                65,37\n",
       "3  09/04/2025                                67,30\n",
       "4  08/04/2025                                64,86"
      ]
     },
     "execution_count": 11,
     "metadata": {},
     "output_type": "execute_result"
    }
   ],
   "source": [
    "df_ipeadata.head()"
   ]
  },
  {
   "cell_type": "code",
   "execution_count": 12,
   "id": "e451e6b9-a247-47ea-a50d-08205bfcc374",
   "metadata": {},
   "outputs": [
    {
     "data": {
      "application/vnd.microsoft.datawrangler.viewer.v0+json": {
       "columns": [
        {
         "name": "index",
         "rawType": "int64",
         "type": "integer"
        },
        {
         "name": "Data",
         "rawType": "object",
         "type": "string"
        },
        {
         "name": "Preço - petróleo bruto - Brent (FOB)",
         "rawType": "object",
         "type": "string"
        }
       ],
       "conversionMethod": "pd.DataFrame",
       "ref": "2e2198b4-8b2b-445b-af8f-c4a0261c2cf2",
       "rows": [
        [
         "11398",
         "26/05/1987",
         "18,63"
        ],
        [
         "11399",
         "25/05/1987",
         "18,60"
        ],
        [
         "11400",
         "22/05/1987",
         "18,55"
        ],
        [
         "11401",
         "21/05/1987",
         "18,45"
        ],
        [
         "11402",
         "20/05/1987",
         "18,63"
        ]
       ],
       "shape": {
        "columns": 2,
        "rows": 5
       }
      },
      "text/html": [
       "<div>\n",
       "<style scoped>\n",
       "    .dataframe tbody tr th:only-of-type {\n",
       "        vertical-align: middle;\n",
       "    }\n",
       "\n",
       "    .dataframe tbody tr th {\n",
       "        vertical-align: top;\n",
       "    }\n",
       "\n",
       "    .dataframe thead th {\n",
       "        text-align: right;\n",
       "    }\n",
       "</style>\n",
       "<table border=\"1\" class=\"dataframe\">\n",
       "  <thead>\n",
       "    <tr style=\"text-align: right;\">\n",
       "      <th></th>\n",
       "      <th>Data</th>\n",
       "      <th>Preço - petróleo bruto - Brent (FOB)</th>\n",
       "    </tr>\n",
       "  </thead>\n",
       "  <tbody>\n",
       "    <tr>\n",
       "      <th>11398</th>\n",
       "      <td>26/05/1987</td>\n",
       "      <td>18,63</td>\n",
       "    </tr>\n",
       "    <tr>\n",
       "      <th>11399</th>\n",
       "      <td>25/05/1987</td>\n",
       "      <td>18,60</td>\n",
       "    </tr>\n",
       "    <tr>\n",
       "      <th>11400</th>\n",
       "      <td>22/05/1987</td>\n",
       "      <td>18,55</td>\n",
       "    </tr>\n",
       "    <tr>\n",
       "      <th>11401</th>\n",
       "      <td>21/05/1987</td>\n",
       "      <td>18,45</td>\n",
       "    </tr>\n",
       "    <tr>\n",
       "      <th>11402</th>\n",
       "      <td>20/05/1987</td>\n",
       "      <td>18,63</td>\n",
       "    </tr>\n",
       "  </tbody>\n",
       "</table>\n",
       "</div>"
      ],
      "text/plain": [
       "             Data Preço - petróleo bruto - Brent (FOB)\n",
       "11398  26/05/1987                                18,63\n",
       "11399  25/05/1987                                18,60\n",
       "11400  22/05/1987                                18,55\n",
       "11401  21/05/1987                                18,45\n",
       "11402  20/05/1987                                18,63"
      ]
     },
     "execution_count": 12,
     "metadata": {},
     "output_type": "execute_result"
    }
   ],
   "source": [
    "df_ipeadata.tail()"
   ]
  },
  {
   "cell_type": "code",
   "execution_count": 13,
   "id": "137f5ff8-4f70-4fdd-a6c9-8df8671ee9b1",
   "metadata": {},
   "outputs": [
    {
     "name": "stdout",
     "output_type": "stream",
     "text": [
      "<class 'pandas.core.frame.DataFrame'>\n",
      "RangeIndex: 11403 entries, 0 to 11402\n",
      "Data columns (total 2 columns):\n",
      " #   Column                                Non-Null Count  Dtype \n",
      "---  ------                                --------------  ----- \n",
      " 0   Data                                  11403 non-null  object\n",
      " 1   Preço - petróleo bruto - Brent (FOB)  11403 non-null  object\n",
      "dtypes: object(2)\n",
      "memory usage: 178.3+ KB\n"
     ]
    }
   ],
   "source": [
    "df_ipeadata.info()"
   ]
  },
  {
   "cell_type": "code",
   "execution_count": 14,
   "id": "d815c516-4c6e-4175-8bec-7535be7bd404",
   "metadata": {},
   "outputs": [
    {
     "data": {
      "text/plain": [
       "(11403, 2)"
      ]
     },
     "execution_count": 14,
     "metadata": {},
     "output_type": "execute_result"
    }
   ],
   "source": [
    "df_ipeadata.shape"
   ]
  },
  {
   "cell_type": "code",
   "execution_count": 15,
   "id": "ca98a67f-7c84-460e-acd5-57af6d6bdefd",
   "metadata": {},
   "outputs": [
    {
     "data": {
      "application/vnd.microsoft.datawrangler.viewer.v0+json": {
       "columns": [
        {
         "name": "index",
         "rawType": "int64",
         "type": "integer"
        },
        {
         "name": "Data",
         "rawType": "bool",
         "type": "boolean"
        },
        {
         "name": "Preço - petróleo bruto - Brent (FOB)",
         "rawType": "bool",
         "type": "boolean"
        }
       ],
       "conversionMethod": "pd.DataFrame",
       "ref": "ea096eaa-eee2-4934-aef8-683582875685",
       "rows": [
        [
         "0",
         "False",
         "False"
        ],
        [
         "1",
         "False",
         "False"
        ],
        [
         "2",
         "False",
         "False"
        ],
        [
         "3",
         "False",
         "False"
        ],
        [
         "4",
         "False",
         "False"
        ],
        [
         "5",
         "False",
         "False"
        ],
        [
         "6",
         "False",
         "False"
        ],
        [
         "7",
         "False",
         "False"
        ],
        [
         "8",
         "False",
         "False"
        ],
        [
         "9",
         "False",
         "False"
        ],
        [
         "10",
         "False",
         "False"
        ],
        [
         "11",
         "False",
         "False"
        ],
        [
         "12",
         "False",
         "False"
        ],
        [
         "13",
         "False",
         "False"
        ],
        [
         "14",
         "False",
         "False"
        ],
        [
         "15",
         "False",
         "False"
        ],
        [
         "16",
         "False",
         "False"
        ],
        [
         "17",
         "False",
         "False"
        ],
        [
         "18",
         "False",
         "False"
        ],
        [
         "19",
         "False",
         "False"
        ],
        [
         "20",
         "False",
         "False"
        ],
        [
         "21",
         "False",
         "False"
        ],
        [
         "22",
         "False",
         "False"
        ],
        [
         "23",
         "False",
         "False"
        ],
        [
         "24",
         "False",
         "False"
        ],
        [
         "25",
         "False",
         "False"
        ],
        [
         "26",
         "False",
         "False"
        ],
        [
         "27",
         "False",
         "False"
        ],
        [
         "28",
         "False",
         "False"
        ],
        [
         "29",
         "False",
         "False"
        ],
        [
         "30",
         "False",
         "False"
        ],
        [
         "31",
         "False",
         "False"
        ],
        [
         "32",
         "False",
         "False"
        ],
        [
         "33",
         "False",
         "False"
        ],
        [
         "34",
         "False",
         "False"
        ],
        [
         "35",
         "False",
         "False"
        ],
        [
         "36",
         "False",
         "False"
        ],
        [
         "37",
         "False",
         "False"
        ],
        [
         "38",
         "False",
         "False"
        ],
        [
         "39",
         "False",
         "False"
        ],
        [
         "40",
         "False",
         "False"
        ],
        [
         "41",
         "False",
         "False"
        ],
        [
         "42",
         "False",
         "False"
        ],
        [
         "43",
         "False",
         "False"
        ],
        [
         "44",
         "False",
         "False"
        ],
        [
         "45",
         "False",
         "False"
        ],
        [
         "46",
         "False",
         "False"
        ],
        [
         "47",
         "False",
         "False"
        ],
        [
         "48",
         "False",
         "False"
        ],
        [
         "49",
         "False",
         "False"
        ]
       ],
       "shape": {
        "columns": 2,
        "rows": 11403
       }
      },
      "text/html": [
       "<div>\n",
       "<style scoped>\n",
       "    .dataframe tbody tr th:only-of-type {\n",
       "        vertical-align: middle;\n",
       "    }\n",
       "\n",
       "    .dataframe tbody tr th {\n",
       "        vertical-align: top;\n",
       "    }\n",
       "\n",
       "    .dataframe thead th {\n",
       "        text-align: right;\n",
       "    }\n",
       "</style>\n",
       "<table border=\"1\" class=\"dataframe\">\n",
       "  <thead>\n",
       "    <tr style=\"text-align: right;\">\n",
       "      <th></th>\n",
       "      <th>Data</th>\n",
       "      <th>Preço - petróleo bruto - Brent (FOB)</th>\n",
       "    </tr>\n",
       "  </thead>\n",
       "  <tbody>\n",
       "    <tr>\n",
       "      <th>0</th>\n",
       "      <td>False</td>\n",
       "      <td>False</td>\n",
       "    </tr>\n",
       "    <tr>\n",
       "      <th>1</th>\n",
       "      <td>False</td>\n",
       "      <td>False</td>\n",
       "    </tr>\n",
       "    <tr>\n",
       "      <th>2</th>\n",
       "      <td>False</td>\n",
       "      <td>False</td>\n",
       "    </tr>\n",
       "    <tr>\n",
       "      <th>3</th>\n",
       "      <td>False</td>\n",
       "      <td>False</td>\n",
       "    </tr>\n",
       "    <tr>\n",
       "      <th>4</th>\n",
       "      <td>False</td>\n",
       "      <td>False</td>\n",
       "    </tr>\n",
       "    <tr>\n",
       "      <th>...</th>\n",
       "      <td>...</td>\n",
       "      <td>...</td>\n",
       "    </tr>\n",
       "    <tr>\n",
       "      <th>11398</th>\n",
       "      <td>False</td>\n",
       "      <td>False</td>\n",
       "    </tr>\n",
       "    <tr>\n",
       "      <th>11399</th>\n",
       "      <td>False</td>\n",
       "      <td>False</td>\n",
       "    </tr>\n",
       "    <tr>\n",
       "      <th>11400</th>\n",
       "      <td>False</td>\n",
       "      <td>False</td>\n",
       "    </tr>\n",
       "    <tr>\n",
       "      <th>11401</th>\n",
       "      <td>False</td>\n",
       "      <td>False</td>\n",
       "    </tr>\n",
       "    <tr>\n",
       "      <th>11402</th>\n",
       "      <td>False</td>\n",
       "      <td>False</td>\n",
       "    </tr>\n",
       "  </tbody>\n",
       "</table>\n",
       "<p>11403 rows × 2 columns</p>\n",
       "</div>"
      ],
      "text/plain": [
       "        Data  Preço - petróleo bruto - Brent (FOB)\n",
       "0      False                                 False\n",
       "1      False                                 False\n",
       "2      False                                 False\n",
       "3      False                                 False\n",
       "4      False                                 False\n",
       "...      ...                                   ...\n",
       "11398  False                                 False\n",
       "11399  False                                 False\n",
       "11400  False                                 False\n",
       "11401  False                                 False\n",
       "11402  False                                 False\n",
       "\n",
       "[11403 rows x 2 columns]"
      ]
     },
     "execution_count": 15,
     "metadata": {},
     "output_type": "execute_result"
    }
   ],
   "source": [
    "df_ipeadata.isnull()"
   ]
  },
  {
   "cell_type": "code",
   "execution_count": 16,
   "id": "331bc248-7366-49ec-8bc2-c75ca66e3c38",
   "metadata": {},
   "outputs": [
    {
     "data": {
      "text/plain": [
       "Data                                    0\n",
       "Preço - petróleo bruto - Brent (FOB)    0\n",
       "dtype: int64"
      ]
     },
     "execution_count": 16,
     "metadata": {},
     "output_type": "execute_result"
    }
   ],
   "source": [
    "df_ipeadata.isnull().sum()"
   ]
  },
  {
   "cell_type": "code",
   "execution_count": 17,
   "id": "1c45258e-dd56-4978-9622-5fbc84cae1cc",
   "metadata": {},
   "outputs": [],
   "source": [
    "import seaborn as sns"
   ]
  },
  {
   "cell_type": "code",
   "execution_count": 18,
   "id": "815fb3a1-f67e-4995-a8d2-9da5483ecf5f",
   "metadata": {},
   "outputs": [
    {
     "data": {
      "text/plain": [
       "<Axes: >"
      ]
     },
     "execution_count": 18,
     "metadata": {},
     "output_type": "execute_result"
    },
    {
     "data": {
      "image/png": "[encoded data removed]",
      "text/plain": [
       "<Figure size 640x480 with 2 Axes>"
      ]
     },
     "metadata": {},
     "output_type": "display_data"
    }
   ],
   "source": [
    "sns.heatmap(df_ipeadata.isnull())"
   ]
  },
  {
   "cell_type": "code",
   "execution_count": 19,
   "id": "3714be79-6479-43a8-9736-2ef08a11cfb1",
   "metadata": {},
   "outputs": [],
   "source": [
    "df_ipeadata['Preço - petróleo bruto - Brent (FOB)'] = df_ipeadata['Preço - petróleo bruto - Brent (FOB)'].str.replace(',','.').astype(float)"
   ]
  },
  {
   "cell_type": "code",
   "execution_count": 20,
   "id": "dc8b80e9-8f3a-47bd-acee-ea5f3ed19f18",
   "metadata": {},
   "outputs": [
    {
     "name": "stdout",
     "output_type": "stream",
     "text": [
      "<class 'pandas.core.frame.DataFrame'>\n",
      "RangeIndex: 11403 entries, 0 to 11402\n",
      "Data columns (total 2 columns):\n",
      " #   Column                                Non-Null Count  Dtype  \n",
      "---  ------                                --------------  -----  \n",
      " 0   Data                                  11403 non-null  object \n",
      " 1   Preço - petróleo bruto - Brent (FOB)  11403 non-null  float64\n",
      "dtypes: float64(1), object(1)\n",
      "memory usage: 178.3+ KB\n"
     ]
    }
   ],
   "source": [
    "df_ipeadata.info()"
   ]
  },
  {
   "cell_type": "code",
   "execution_count": 21,
   "id": "6154856c-a2c3-41e5-aba8-4c0c1a601eba",
   "metadata": {},
   "outputs": [
    {
     "data": {
      "text/plain": [
       "<Axes: ylabel='Count'>"
      ]
     },
     "execution_count": 21,
     "metadata": {},
     "output_type": "execute_result"
    },
    {
     "data": {
      "image/png": "[encoded data removed]",
      "text/plain": [
       "<Figure size 640x480 with 1 Axes>"
      ]
     },
     "metadata": {},
     "output_type": "display_data"
    }
   ],
   "source": [
    "sns.histplot(df_ipeadata, kde=True)"
   ]
  },
  {
   "cell_type": "code",
   "execution_count": 22,
   "id": "d0358d37-7c52-422f-a446-f742fb1033a7",
   "metadata": {},
   "outputs": [
    {
     "data": {
      "text/plain": [
       "<Axes: >"
      ]
     },
     "execution_count": 22,
     "metadata": {},
     "output_type": "execute_result"
    },
    {
     "data": {
      "image/png": "[encoded data removed]",
      "text/plain": [
       "<Figure size 640x480 with 1 Axes>"
      ]
     },
     "metadata": {},
     "output_type": "display_data"
    }
   ],
   "source": [
    "sns.boxplot(df_ipeadata)"
   ]
  },
  {
   "cell_type": "code",
   "execution_count": 23,
   "id": "fb36a038-0ae5-4d90-a6e2-e8be3637e045",
   "metadata": {},
   "outputs": [
    {
     "data": {
      "text/plain": [
       "<Axes: >"
      ]
     },
     "execution_count": 23,
     "metadata": {},
     "output_type": "execute_result"
    },
    {
     "data": {
      "image/png": "[encoded data removed]",
      "text/plain": [
       "<Figure size 640x480 with 2 Axes>"
      ]
     },
     "metadata": {},
     "output_type": "display_data"
    }
   ],
   "source": [
    "sns.heatmap(df_ipeadata.corr(numeric_only=True), annot=True)"
   ]
  },
  {
   "cell_type": "code",
   "execution_count": 24,
   "id": "7a9f2e31-4933-4f23-91b3-57d6ad374153",
   "metadata": {},
   "outputs": [
    {
     "data": {
      "text/plain": [
       "<seaborn.axisgrid.PairGrid at 0x1f8e55134d0>"
      ]
     },
     "execution_count": 24,
     "metadata": {},
     "output_type": "execute_result"
    },
    {
     "data": {
      "image/png": "[encoded data removed]",
      "text/plain": [
       "<Figure size 250x250 with 2 Axes>"
      ]
     },
     "metadata": {},
     "output_type": "display_data"
    }
   ],
   "source": [
    "sns.pairplot(df_ipeadata)"
   ]
  },
  {
   "cell_type": "code",
   "execution_count": 25,
   "id": "b3e470c8-7d36-4d13-b228-038f99c1024a",
   "metadata": {},
   "outputs": [
    {
     "name": "stdout",
     "output_type": "stream",
     "text": [
      "<class 'pandas.core.frame.DataFrame'>\n",
      "RangeIndex: 11403 entries, 0 to 11402\n",
      "Data columns (total 2 columns):\n",
      " #   Column                                Non-Null Count  Dtype  \n",
      "---  ------                                --------------  -----  \n",
      " 0   Data                                  11403 non-null  object \n",
      " 1   Preço - petróleo bruto - Brent (FOB)  11403 non-null  float64\n",
      "dtypes: float64(1), object(1)\n",
      "memory usage: 178.3+ KB\n"
     ]
    }
   ],
   "source": [
    "df_ipeadata.info()"
   ]
  },
  {
   "cell_type": "code",
   "execution_count": 26,
   "id": "310f6f17-0fb1-4360-9586-77e27b064de0",
   "metadata": {},
   "outputs": [],
   "source": [
    "df_ipeadata['Data']=pd.to_datetime(df_ipeadata['Data'], dayfirst=True)"
   ]
  },
  {
   "cell_type": "code",
   "execution_count": 27,
   "id": "4a93d954-f378-4204-90df-bb1624ed7c06",
   "metadata": {},
   "outputs": [
    {
     "name": "stdout",
     "output_type": "stream",
     "text": [
      "<class 'pandas.core.frame.DataFrame'>\n",
      "RangeIndex: 11403 entries, 0 to 11402\n",
      "Data columns (total 2 columns):\n",
      " #   Column                                Non-Null Count  Dtype         \n",
      "---  ------                                --------------  -----         \n",
      " 0   Data                                  11403 non-null  datetime64[ns]\n",
      " 1   Preço - petróleo bruto - Brent (FOB)  11403 non-null  float64       \n",
      "dtypes: datetime64[ns](1), float64(1)\n",
      "memory usage: 178.3 KB\n"
     ]
    }
   ],
   "source": [
    "df_ipeadata.info()"
   ]
  },
  {
   "cell_type": "code",
   "execution_count": 28,
   "id": "53a00816-7c3b-40bf-a7fa-d984a7fc2497",
   "metadata": {},
   "outputs": [
    {
     "data": {
      "application/vnd.microsoft.datawrangler.viewer.v0+json": {
       "columns": [
        {
         "name": "index",
         "rawType": "int64",
         "type": "integer"
        },
        {
         "name": "Data",
         "rawType": "datetime64[ns]",
         "type": "datetime"
        },
        {
         "name": "Preço - petróleo bruto - Brent (FOB)",
         "rawType": "float64",
         "type": "float"
        }
       ],
       "conversionMethod": "pd.DataFrame",
       "ref": "872ec063-b95f-44a4-b735-6eb43a584f71",
       "rows": [
        [
         "0",
         "2025-04-14 00:00:00",
         "67.18"
        ],
        [
         "1",
         "2025-04-11 00:00:00",
         "66.83"
        ],
        [
         "2",
         "2025-04-10 00:00:00",
         "65.37"
        ],
        [
         "3",
         "2025-04-09 00:00:00",
         "67.3"
        ],
        [
         "4",
         "2025-04-08 00:00:00",
         "64.86"
        ]
       ],
       "shape": {
        "columns": 2,
        "rows": 5
       }
      },
      "text/html": [
       "<div>\n",
       "<style scoped>\n",
       "    .dataframe tbody tr th:only-of-type {\n",
       "        vertical-align: middle;\n",
       "    }\n",
       "\n",
       "    .dataframe tbody tr th {\n",
       "        vertical-align: top;\n",
       "    }\n",
       "\n",
       "    .dataframe thead th {\n",
       "        text-align: right;\n",
       "    }\n",
       "</style>\n",
       "<table border=\"1\" class=\"dataframe\">\n",
       "  <thead>\n",
       "    <tr style=\"text-align: right;\">\n",
       "      <th></th>\n",
       "      <th>Data</th>\n",
       "      <th>Preço - petróleo bruto - Brent (FOB)</th>\n",
       "    </tr>\n",
       "  </thead>\n",
       "  <tbody>\n",
       "    <tr>\n",
       "      <th>0</th>\n",
       "      <td>2025-04-14</td>\n",
       "      <td>67.18</td>\n",
       "    </tr>\n",
       "    <tr>\n",
       "      <th>1</th>\n",
       "      <td>2025-04-11</td>\n",
       "      <td>66.83</td>\n",
       "    </tr>\n",
       "    <tr>\n",
       "      <th>2</th>\n",
       "      <td>2025-04-10</td>\n",
       "      <td>65.37</td>\n",
       "    </tr>\n",
       "    <tr>\n",
       "      <th>3</th>\n",
       "      <td>2025-04-09</td>\n",
       "      <td>67.30</td>\n",
       "    </tr>\n",
       "    <tr>\n",
       "      <th>4</th>\n",
       "      <td>2025-04-08</td>\n",
       "      <td>64.86</td>\n",
       "    </tr>\n",
       "  </tbody>\n",
       "</table>\n",
       "</div>"
      ],
      "text/plain": [
       "        Data  Preço - petróleo bruto - Brent (FOB)\n",
       "0 2025-04-14                                 67.18\n",
       "1 2025-04-11                                 66.83\n",
       "2 2025-04-10                                 65.37\n",
       "3 2025-04-09                                 67.30\n",
       "4 2025-04-08                                 64.86"
      ]
     },
     "execution_count": 28,
     "metadata": {},
     "output_type": "execute_result"
    }
   ],
   "source": [
    "df_ipeadata.head()"
   ]
  },
  {
   "cell_type": "code",
   "execution_count": 29,
   "id": "4d24f34c-4f17-4607-bc83-ec661b6f89ce",
   "metadata": {},
   "outputs": [],
   "source": [
    "df_ipeadata['Ano'] = df_ipeadata['Data'].dt.year\n",
    "df_ipeadata['Mes'] = df_ipeadata['Data'].dt.month"
   ]
  },
  {
   "cell_type": "code",
   "execution_count": 30,
   "id": "3fce2ebb-3692-4f5f-a532-82fefdbb7ba1",
   "metadata": {},
   "outputs": [
    {
     "data": {
      "application/vnd.microsoft.datawrangler.viewer.v0+json": {
       "columns": [
        {
         "name": "index",
         "rawType": "int64",
         "type": "integer"
        },
        {
         "name": "Data",
         "rawType": "datetime64[ns]",
         "type": "datetime"
        },
        {
         "name": "Preço - petróleo bruto - Brent (FOB)",
         "rawType": "float64",
         "type": "float"
        },
        {
         "name": "Ano",
         "rawType": "int32",
         "type": "integer"
        },
        {
         "name": "Mes",
         "rawType": "int32",
         "type": "integer"
        }
       ],
       "conversionMethod": "pd.DataFrame",
       "ref": "7e8ed5c3-6fc4-4d68-96a7-e505b74f070a",
       "rows": [
        [
         "0",
         "2025-04-14 00:00:00",
         "67.18",
         "2025",
         "4"
        ],
        [
         "1",
         "2025-04-11 00:00:00",
         "66.83",
         "2025",
         "4"
        ],
        [
         "2",
         "2025-04-10 00:00:00",
         "65.37",
         "2025",
         "4"
        ],
        [
         "3",
         "2025-04-09 00:00:00",
         "67.3",
         "2025",
         "4"
        ],
        [
         "4",
         "2025-04-08 00:00:00",
         "64.86",
         "2025",
         "4"
        ]
       ],
       "shape": {
        "columns": 4,
        "rows": 5
       }
      },
      "text/html": [
       "<div>\n",
       "<style scoped>\n",
       "    .dataframe tbody tr th:only-of-type {\n",
       "        vertical-align: middle;\n",
       "    }\n",
       "\n",
       "    .dataframe tbody tr th {\n",
       "        vertical-align: top;\n",
       "    }\n",
       "\n",
       "    .dataframe thead th {\n",
       "        text-align: right;\n",
       "    }\n",
       "</style>\n",
       "<table border=\"1\" class=\"dataframe\">\n",
       "  <thead>\n",
       "    <tr style=\"text-align: right;\">\n",
       "      <th></th>\n",
       "      <th>Data</th>\n",
       "      <th>Preço - petróleo bruto - Brent (FOB)</th>\n",
       "      <th>Ano</th>\n",
       "      <th>Mes</th>\n",
       "    </tr>\n",
       "  </thead>\n",
       "  <tbody>\n",
       "    <tr>\n",
       "      <th>0</th>\n",
       "      <td>2025-04-14</td>\n",
       "      <td>67.18</td>\n",
       "      <td>2025</td>\n",
       "      <td>4</td>\n",
       "    </tr>\n",
       "    <tr>\n",
       "      <th>1</th>\n",
       "      <td>2025-04-11</td>\n",
       "      <td>66.83</td>\n",
       "      <td>2025</td>\n",
       "      <td>4</td>\n",
       "    </tr>\n",
       "    <tr>\n",
       "      <th>2</th>\n",
       "      <td>2025-04-10</td>\n",
       "      <td>65.37</td>\n",
       "      <td>2025</td>\n",
       "      <td>4</td>\n",
       "    </tr>\n",
       "    <tr>\n",
       "      <th>3</th>\n",
       "      <td>2025-04-09</td>\n",
       "      <td>67.30</td>\n",
       "      <td>2025</td>\n",
       "      <td>4</td>\n",
       "    </tr>\n",
       "    <tr>\n",
       "      <th>4</th>\n",
       "      <td>2025-04-08</td>\n",
       "      <td>64.86</td>\n",
       "      <td>2025</td>\n",
       "      <td>4</td>\n",
       "    </tr>\n",
       "  </tbody>\n",
       "</table>\n",
       "</div>"
      ],
      "text/plain": [
       "        Data  Preço - petróleo bruto - Brent (FOB)   Ano  Mes\n",
       "0 2025-04-14                                 67.18  2025    4\n",
       "1 2025-04-11                                 66.83  2025    4\n",
       "2 2025-04-10                                 65.37  2025    4\n",
       "3 2025-04-09                                 67.30  2025    4\n",
       "4 2025-04-08                                 64.86  2025    4"
      ]
     },
     "execution_count": 30,
     "metadata": {},
     "output_type": "execute_result"
    }
   ],
   "source": [
    "df_ipeadata.head()"
   ]
  },
  {
   "cell_type": "code",
   "execution_count": 31,
   "id": "8c4eec70-cebd-43f6-859c-9902c1d357ed",
   "metadata": {},
   "outputs": [
    {
     "data": {
      "application/vnd.microsoft.datawrangler.viewer.v0+json": {
       "columns": [
        {
         "name": "index",
         "rawType": "object",
         "type": "string"
        },
        {
         "name": "Data",
         "rawType": "object",
         "type": "unknown"
        },
        {
         "name": "Preço - petróleo bruto - Brent (FOB)",
         "rawType": "float64",
         "type": "float"
        },
        {
         "name": "Ano",
         "rawType": "float64",
         "type": "float"
        },
        {
         "name": "Mes",
         "rawType": "float64",
         "type": "float"
        }
       ],
       "conversionMethod": "pd.DataFrame",
       "ref": "1ae4859d-84fd-42ea-ac77-40b30d377484",
       "rows": [
        [
         "count",
         "11403",
         "11403.0",
         "11403.0",
         "11403.0"
        ],
        [
         "mean",
         "2006-12-21 19:10:48.776637696",
         "53.52",
         "2006.47",
         "6.53"
        ],
        [
         "min",
         "1987-05-20 00:00:00",
         "9.1",
         "1987.0",
         "1.0"
        ],
        [
         "25%",
         "1998-08-10 12:00:00",
         "20.73",
         "1998.0",
         "4.0"
        ],
        [
         "50%",
         "2007-07-24 00:00:00",
         "49.37",
         "2007.0",
         "7.0"
        ],
        [
         "75%",
         "2015-06-14 12:00:00",
         "76.78",
         "2015.0",
         "10.0"
        ],
        [
         "max",
         "2025-04-14 00:00:00",
         "143.95",
         "2025.0",
         "12.0"
        ],
        [
         "std",
         null,
         "33.07",
         "10.35",
         "3.44"
        ]
       ],
       "shape": {
        "columns": 4,
        "rows": 8
       }
      },
      "text/html": [
       "<div>\n",
       "<style scoped>\n",
       "    .dataframe tbody tr th:only-of-type {\n",
       "        vertical-align: middle;\n",
       "    }\n",
       "\n",
       "    .dataframe tbody tr th {\n",
       "        vertical-align: top;\n",
       "    }\n",
       "\n",
       "    .dataframe thead th {\n",
       "        text-align: right;\n",
       "    }\n",
       "</style>\n",
       "<table border=\"1\" class=\"dataframe\">\n",
       "  <thead>\n",
       "    <tr style=\"text-align: right;\">\n",
       "      <th></th>\n",
       "      <th>Data</th>\n",
       "      <th>Preço - petróleo bruto - Brent (FOB)</th>\n",
       "      <th>Ano</th>\n",
       "      <th>Mes</th>\n",
       "    </tr>\n",
       "  </thead>\n",
       "  <tbody>\n",
       "    <tr>\n",
       "      <th>count</th>\n",
       "      <td>11403</td>\n",
       "      <td>11403.00</td>\n",
       "      <td>11403.00</td>\n",
       "      <td>11403.00</td>\n",
       "    </tr>\n",
       "    <tr>\n",
       "      <th>mean</th>\n",
       "      <td>2006-12-21 19:10:48.776637696</td>\n",
       "      <td>53.52</td>\n",
       "      <td>2006.47</td>\n",
       "      <td>6.53</td>\n",
       "    </tr>\n",
       "    <tr>\n",
       "      <th>min</th>\n",
       "      <td>1987-05-20 00:00:00</td>\n",
       "      <td>9.10</td>\n",
       "      <td>1987.00</td>\n",
       "      <td>1.00</td>\n",
       "    </tr>\n",
       "    <tr>\n",
       "      <th>25%</th>\n",
       "      <td>1998-08-10 12:00:00</td>\n",
       "      <td>20.73</td>\n",
       "      <td>1998.00</td>\n",
       "      <td>4.00</td>\n",
       "    </tr>\n",
       "    <tr>\n",
       "      <th>50%</th>\n",
       "      <td>2007-07-24 00:00:00</td>\n",
       "      <td>49.37</td>\n",
       "      <td>2007.00</td>\n",
       "      <td>7.00</td>\n",
       "    </tr>\n",
       "    <tr>\n",
       "      <th>75%</th>\n",
       "      <td>2015-06-14 12:00:00</td>\n",
       "      <td>76.78</td>\n",
       "      <td>2015.00</td>\n",
       "      <td>10.00</td>\n",
       "    </tr>\n",
       "    <tr>\n",
       "      <th>max</th>\n",
       "      <td>2025-04-14 00:00:00</td>\n",
       "      <td>143.95</td>\n",
       "      <td>2025.00</td>\n",
       "      <td>12.00</td>\n",
       "    </tr>\n",
       "    <tr>\n",
       "      <th>std</th>\n",
       "      <td>NaN</td>\n",
       "      <td>33.07</td>\n",
       "      <td>10.35</td>\n",
       "      <td>3.44</td>\n",
       "    </tr>\n",
       "  </tbody>\n",
       "</table>\n",
       "</div>"
      ],
      "text/plain": [
       "                                Data  Preço - petróleo bruto - Brent (FOB)  \\\n",
       "count                          11403                              11403.00   \n",
       "mean   2006-12-21 19:10:48.776637696                                 53.52   \n",
       "min              1987-05-20 00:00:00                                  9.10   \n",
       "25%              1998-08-10 12:00:00                                 20.73   \n",
       "50%              2007-07-24 00:00:00                                 49.37   \n",
       "75%              2015-06-14 12:00:00                                 76.78   \n",
       "max              2025-04-14 00:00:00                                143.95   \n",
       "std                              NaN                                 33.07   \n",
       "\n",
       "            Ano       Mes  \n",
       "count  11403.00  11403.00  \n",
       "mean    2006.47      6.53  \n",
       "min     1987.00      1.00  \n",
       "25%     1998.00      4.00  \n",
       "50%     2007.00      7.00  \n",
       "75%     2015.00     10.00  \n",
       "max     2025.00     12.00  \n",
       "std       10.35      3.44  "
      ]
     },
     "execution_count": 31,
     "metadata": {},
     "output_type": "execute_result"
    }
   ],
   "source": [
    "df_ipeadata.describe().round(2)"
   ]
  },
  {
   "cell_type": "code",
   "execution_count": 32,
   "id": "5d0754d2-b649-4a05-adf1-773c3912bd93",
   "metadata": {},
   "outputs": [
    {
     "name": "stdout",
     "output_type": "stream",
     "text": [
      "Os anos da Base: [2025 2024 2023 2022 2021 2020 2019 2018 2017 2016 2015 2014 2013 2012\n",
      " 2011 2010 2009 2008 2007 2006 2005 2004 2003 2002 2001 2000 1999 1998\n",
      " 1997 1996 1995 1994 1993 1992 1991 1990 1989 1988 1987]\n"
     ]
    }
   ],
   "source": [
    "print(f'Os anos da Base: {df_ipeadata.Ano.unique()}')"
   ]
  },
  {
   "cell_type": "code",
   "execution_count": 33,
   "id": "0d934ae7-cbbd-40bd-9e36-f49e014b9571",
   "metadata": {},
   "outputs": [
    {
     "name": "stdout",
     "output_type": "stream",
     "text": [
      "Os meses da Base: [ 4  3  2  1 12 11 10  9  8  7  6  5]\n"
     ]
    }
   ],
   "source": [
    "print(f'Os meses da Base: {df_ipeadata.Mes.unique()}')"
   ]
  },
  {
   "cell_type": "code",
   "execution_count": 34,
   "id": "3c9632b9-ce6f-4090-8e35-dd30759585f5",
   "metadata": {},
   "outputs": [
    {
     "name": "stdout",
     "output_type": "stream",
     "text": [
      "<class 'pandas.core.frame.DataFrame'>\n",
      "RangeIndex: 11403 entries, 0 to 11402\n",
      "Data columns (total 4 columns):\n",
      " #   Column                                Non-Null Count  Dtype         \n",
      "---  ------                                --------------  -----         \n",
      " 0   Data                                  11403 non-null  datetime64[ns]\n",
      " 1   Preço - petróleo bruto - Brent (FOB)  11403 non-null  float64       \n",
      " 2   Ano                                   11403 non-null  int32         \n",
      " 3   Mes                                   11403 non-null  int32         \n",
      "dtypes: datetime64[ns](1), float64(1), int32(2)\n",
      "memory usage: 267.4 KB\n"
     ]
    }
   ],
   "source": [
    "df_ipeadata.info()"
   ]
  },
  {
   "cell_type": "code",
   "execution_count": 35,
   "id": "deae9a9f-dfec-4583-aeec-e255efa6b0ff",
   "metadata": {},
   "outputs": [
    {
     "data": {
      "application/vnd.microsoft.datawrangler.viewer.v0+json": {
       "columns": [
        {
         "name": "index",
         "rawType": "int64",
         "type": "integer"
        },
        {
         "name": "Data",
         "rawType": "datetime64[ns]",
         "type": "datetime"
        },
        {
         "name": "Preço - petróleo bruto - Brent (FOB)",
         "rawType": "float64",
         "type": "float"
        },
        {
         "name": "Ano",
         "rawType": "int32",
         "type": "integer"
        },
        {
         "name": "Mes",
         "rawType": "int32",
         "type": "integer"
        }
       ],
       "conversionMethod": "pd.DataFrame",
       "ref": "1db19658-09b5-4135-89ea-8468b7a165ba",
       "rows": [
        [
         "0",
         "2025-04-14 00:00:00",
         "67.18",
         "2025",
         "4"
        ],
        [
         "1",
         "2025-04-11 00:00:00",
         "66.83",
         "2025",
         "4"
        ],
        [
         "2",
         "2025-04-10 00:00:00",
         "65.37",
         "2025",
         "4"
        ],
        [
         "3",
         "2025-04-09 00:00:00",
         "67.3",
         "2025",
         "4"
        ],
        [
         "4",
         "2025-04-08 00:00:00",
         "64.86",
         "2025",
         "4"
        ]
       ],
       "shape": {
        "columns": 4,
        "rows": 5
       }
      },
      "text/html": [
       "<div>\n",
       "<style scoped>\n",
       "    .dataframe tbody tr th:only-of-type {\n",
       "        vertical-align: middle;\n",
       "    }\n",
       "\n",
       "    .dataframe tbody tr th {\n",
       "        vertical-align: top;\n",
       "    }\n",
       "\n",
       "    .dataframe thead th {\n",
       "        text-align: right;\n",
       "    }\n",
       "</style>\n",
       "<table border=\"1\" class=\"dataframe\">\n",
       "  <thead>\n",
       "    <tr style=\"text-align: right;\">\n",
       "      <th></th>\n",
       "      <th>Data</th>\n",
       "      <th>Preço - petróleo bruto - Brent (FOB)</th>\n",
       "      <th>Ano</th>\n",
       "      <th>Mes</th>\n",
       "    </tr>\n",
       "  </thead>\n",
       "  <tbody>\n",
       "    <tr>\n",
       "      <th>0</th>\n",
       "      <td>2025-04-14</td>\n",
       "      <td>67.18</td>\n",
       "      <td>2025</td>\n",
       "      <td>4</td>\n",
       "    </tr>\n",
       "    <tr>\n",
       "      <th>1</th>\n",
       "      <td>2025-04-11</td>\n",
       "      <td>66.83</td>\n",
       "      <td>2025</td>\n",
       "      <td>4</td>\n",
       "    </tr>\n",
       "    <tr>\n",
       "      <th>2</th>\n",
       "      <td>2025-04-10</td>\n",
       "      <td>65.37</td>\n",
       "      <td>2025</td>\n",
       "      <td>4</td>\n",
       "    </tr>\n",
       "    <tr>\n",
       "      <th>3</th>\n",
       "      <td>2025-04-09</td>\n",
       "      <td>67.30</td>\n",
       "      <td>2025</td>\n",
       "      <td>4</td>\n",
       "    </tr>\n",
       "    <tr>\n",
       "      <th>4</th>\n",
       "      <td>2025-04-08</td>\n",
       "      <td>64.86</td>\n",
       "      <td>2025</td>\n",
       "      <td>4</td>\n",
       "    </tr>\n",
       "  </tbody>\n",
       "</table>\n",
       "</div>"
      ],
      "text/plain": [
       "        Data  Preço - petróleo bruto - Brent (FOB)   Ano  Mes\n",
       "0 2025-04-14                                 67.18  2025    4\n",
       "1 2025-04-11                                 66.83  2025    4\n",
       "2 2025-04-10                                 65.37  2025    4\n",
       "3 2025-04-09                                 67.30  2025    4\n",
       "4 2025-04-08                                 64.86  2025    4"
      ]
     },
     "execution_count": 35,
     "metadata": {},
     "output_type": "execute_result"
    }
   ],
   "source": [
    "df_ipeadata.head()"
   ]
  },
  {
   "cell_type": "code",
   "execution_count": 36,
   "id": "7ae41109",
   "metadata": {},
   "outputs": [],
   "source": [
    "ipeadata_prev = df_ipeadata.set_index('Data').sort_index"
   ]
  },
  {
   "cell_type": "code",
   "execution_count": 37,
   "id": "2bcd32c8",
   "metadata": {},
   "outputs": [
    {
     "ename": "AttributeError",
     "evalue": "'function' object has no attribute 'head'",
     "output_type": "error",
     "traceback": [
      "\u001b[1;31m---------------------------------------------------------------------------\u001b[0m",
      "\u001b[1;31mAttributeError\u001b[0m                            Traceback (most recent call last)",
      "Cell \u001b[1;32mIn[37], line 1\u001b[0m\n\u001b[1;32m----> 1\u001b[0m \u001b[43mipeadata_prev\u001b[49m\u001b[38;5;241;43m.\u001b[39;49m\u001b[43mhead\u001b[49m()\n",
      "\u001b[1;31mAttributeError\u001b[0m: 'function' object has no attribute 'head'"
     ]
    }
   ],
   "source": [
    "ipeadata_prev.head()"
   ]
  },
  {
   "cell_type": "code",
   "execution_count": null,
   "id": "c071ff37",
   "metadata": {},
   "outputs": [],
   "source": []
  }
 ],
 "metadata": {
  "kernelspec": {
   "display_name": "Python 3",
   "language": "python",
   "name": "python3"
  },
  "language_info": {
   "codemirror_mode": {
    "name": "ipython",
    "version": 3
   },
   "file_extension": ".py",
   "mimetype": "text/x-python",
   "name": "python",
   "nbconvert_exporter": "python",
   "pygments_lexer": "ipython3",
   "version": "3.13.2"
  }
 },
 "nbformat": 4,
 "nbformat_minor": 5
}
